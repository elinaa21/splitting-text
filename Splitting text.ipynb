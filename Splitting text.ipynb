{
 "cells": [
  {
   "cell_type": "code",
   "execution_count": 222,
   "id": "4eac58bd",
   "metadata": {},
   "outputs": [],
   "source": [
    "with open('text.txt', 'r') as file:\n",
    "    data = file.read().split('\\n\\n')"
   ]
  },
  {
   "cell_type": "code",
   "execution_count": 224,
   "id": "95e23686",
   "metadata": {},
   "outputs": [],
   "source": [
    "#сбор признаков\n",
    "def get_features(data):\n",
    "    features = {\n",
    "        'isAbbreviation': [],\n",
    "        'isNumber': [],\n",
    "        'numberOfWords': [],\n",
    "        'isNextLetterCapital': [],\n",
    "        'isNextLetterNumber': []\n",
    "    }\n",
    "    \n",
    "    for paragraph in data:\n",
    "        if '.' not in paragraph:\n",
    "            continue\n",
    "        sentences = paragraph.split('.')\n",
    "\n",
    "        for i, sentence in enumerate(sentences):\n",
    "\n",
    "            if i == len(sentences) - 1: #граничное условие, последняя точка в абзаце всегда является разделяющей\n",
    "                continue\n",
    "            if not sentences[i+1]:\n",
    "                continue\n",
    "            sents.append(sentence)\n",
    "            words = sentence.split(' ')\n",
    "            lastWord = words[-1] #последнее слово в предложении\n",
    "            nextSentence = sentences[i+1] #предложение, следующее за точкой\n",
    "\n",
    "            if len(lastWord) <= 3:\n",
    "                features['isAbbreviation'].append(1)\n",
    "            else:\n",
    "                features['isAbbreviation'].append(0)\n",
    "\n",
    "            if lastWord.isnumeric():\n",
    "                features['isNumber'].append(1)\n",
    "            else:\n",
    "                features['isNumber'].append(0)\n",
    "\n",
    "            features['numberOfWords'].append(len(words))\n",
    "\n",
    "            if nextSentence[0] == ' ':\n",
    "                if nextSentence[1].upper() == nextSentence[1]:\n",
    "                    features['isNextLetterCapital'].append(1)\n",
    "                else:\n",
    "                    features['isNextLetterCapital'].append(0)\n",
    "            else:\n",
    "                if nextSentence[0].upper() == nextSentence[0]:\n",
    "                    features['isNextLetterCapital'].append(1)\n",
    "                else:\n",
    "                    features['isNextLetterCapital'].append(0)\n",
    "            if nextSentence[0] == ' ':\n",
    "                if nextSentence[1].isnumeric():\n",
    "                    features['isNextLetterNumber'].append(1)\n",
    "                else:\n",
    "                    features['isNextLetterNumber'].append(0)\n",
    "            else:\n",
    "                if nextSentence[0].isnumeric():\n",
    "                    features['isNextLetterNumber'].append(1)\n",
    "                else:\n",
    "                    features['isNextLetterNumber'].append(0)\n",
    "    return features"
   ]
  },
  {
   "cell_type": "code",
   "execution_count": 225,
   "id": "104c0ad8",
   "metadata": {},
   "outputs": [],
   "source": [
    "features = get_features(data)"
   ]
  },
  {
   "cell_type": "code",
   "execution_count": 226,
   "id": "5ba62f88",
   "metadata": {},
   "outputs": [],
   "source": [
    "import pandas as pd\n",
    "df_test = pd.DataFrame(features)"
   ]
  },
  {
   "cell_type": "code",
   "execution_count": 227,
   "id": "360dee4d",
   "metadata": {},
   "outputs": [],
   "source": [
    "target_test = [0, 0, 0, 0, 0, 0, 0, 0, 0,\n",
    "         0, 0, 0, 0, 0, 0, 0, 0, 0, 0, 0, 0, 0, 0, 0, 0, 0, 0,0,0,0,0,0,0,\n",
    "         0, 0,0, 0,0, 0,0, 0,0,0,0,0,0,0,\n",
    "         0,0,0,0,0,1,0,0,0,0,1, 1, 0,\n",
    "         0,0,0,0,\n",
    "         0,\n",
    "         0,0,0,0,0,0,0,0,0,0,0,1,\n",
    "         0,0,0,0,\n",
    "         0,0,0,0,0, 0,1,0,0,0,0,0,0,0,0,0,0,0,0,\n",
    "          0,0,0,0,0,\n",
    "          0,\n",
    "          0,0,0,0,0,0,0,0,\n",
    "          0,0,\n",
    "          0,0,0,0,0,\n",
    "          0,1,0,\n",
    "          1,\n",
    "          0,\n",
    "          0,0,\n",
    "          0,\n",
    "          0,\n",
    "          0\n",
    "         ]"
   ]
  },
  {
   "cell_type": "code",
   "execution_count": 228,
   "id": "e31e3bdc",
   "metadata": {},
   "outputs": [],
   "source": [
    "df_test['target'] = target_test"
   ]
  },
  {
   "cell_type": "code",
   "execution_count": 229,
   "id": "33f2b534",
   "metadata": {},
   "outputs": [
    {
     "data": {
      "text/html": [
       "<div>\n",
       "<style scoped>\n",
       "    .dataframe tbody tr th:only-of-type {\n",
       "        vertical-align: middle;\n",
       "    }\n",
       "\n",
       "    .dataframe tbody tr th {\n",
       "        vertical-align: top;\n",
       "    }\n",
       "\n",
       "    .dataframe thead th {\n",
       "        text-align: right;\n",
       "    }\n",
       "</style>\n",
       "<table border=\"1\" class=\"dataframe\">\n",
       "  <thead>\n",
       "    <tr style=\"text-align: right;\">\n",
       "      <th></th>\n",
       "      <th>isAbbreviation</th>\n",
       "      <th>isNumber</th>\n",
       "      <th>numberOfWords</th>\n",
       "      <th>isNextLetterCapital</th>\n",
       "      <th>isNextLetterNumber</th>\n",
       "      <th>target</th>\n",
       "    </tr>\n",
       "  </thead>\n",
       "  <tbody>\n",
       "    <tr>\n",
       "      <th>0</th>\n",
       "      <td>1</td>\n",
       "      <td>0</td>\n",
       "      <td>5</td>\n",
       "      <td>1</td>\n",
       "      <td>0</td>\n",
       "      <td>0</td>\n",
       "    </tr>\n",
       "    <tr>\n",
       "      <th>1</th>\n",
       "      <td>1</td>\n",
       "      <td>0</td>\n",
       "      <td>10</td>\n",
       "      <td>1</td>\n",
       "      <td>0</td>\n",
       "      <td>0</td>\n",
       "    </tr>\n",
       "    <tr>\n",
       "      <th>2</th>\n",
       "      <td>1</td>\n",
       "      <td>0</td>\n",
       "      <td>1</td>\n",
       "      <td>1</td>\n",
       "      <td>0</td>\n",
       "      <td>0</td>\n",
       "    </tr>\n",
       "    <tr>\n",
       "      <th>3</th>\n",
       "      <td>1</td>\n",
       "      <td>0</td>\n",
       "      <td>4</td>\n",
       "      <td>1</td>\n",
       "      <td>0</td>\n",
       "      <td>0</td>\n",
       "    </tr>\n",
       "    <tr>\n",
       "      <th>4</th>\n",
       "      <td>1</td>\n",
       "      <td>0</td>\n",
       "      <td>1</td>\n",
       "      <td>1</td>\n",
       "      <td>0</td>\n",
       "      <td>0</td>\n",
       "    </tr>\n",
       "  </tbody>\n",
       "</table>\n",
       "</div>"
      ],
      "text/plain": [
       "   isAbbreviation  isNumber  numberOfWords  isNextLetterCapital  \\\n",
       "0               1         0              5                    1   \n",
       "1               1         0             10                    1   \n",
       "2               1         0              1                    1   \n",
       "3               1         0              4                    1   \n",
       "4               1         0              1                    1   \n",
       "\n",
       "   isNextLetterNumber  target  \n",
       "0                   0       0  \n",
       "1                   0       0  \n",
       "2                   0       0  \n",
       "3                   0       0  \n",
       "4                   0       0  "
      ]
     },
     "execution_count": 229,
     "metadata": {},
     "output_type": "execute_result"
    }
   ],
   "source": [
    "df_test.head()"
   ]
  },
  {
   "cell_type": "code",
   "execution_count": 230,
   "id": "a91682df",
   "metadata": {},
   "outputs": [],
   "source": [
    "with open('text2.txt', 'r') as file:\n",
    "    data2 = file.read().replace('...', '').split('\\n\\n')"
   ]
  },
  {
   "cell_type": "code",
   "execution_count": 231,
   "id": "fe4b5247",
   "metadata": {},
   "outputs": [],
   "source": [
    "target_train = [0,\n",
    "                 0,0,0,0,0,0,0,0,0,0,1,\n",
    "                  0,0,0,0,0,0,0,0,\n",
    "                  0,0,0,0,0,0,0,\n",
    "                  0,0,1, 0,0,0,0,1,1,1,1,1,1,1,1,1,1,\n",
    "                  1, 0,0,1,0,0,0,\n",
    "                  0,0,1,0,0,0,0,\n",
    "                  0,0,0,1, 0,0,0,\n",
    "                  0,\n",
    "                  1,\n",
    "                    0,1,0,0,\n",
    "                   0,0,\n",
    "                   1,0,0,1,0,1,\n",
    "                   0,\n",
    "                   0,0, 0,0,0,0,1,0,0,\n",
    "                   0,\n",
    "                   0,\n",
    "                   0,\n",
    "                  ]"
   ]
  },
  {
   "cell_type": "code",
   "execution_count": 232,
   "id": "08dd404e",
   "metadata": {},
   "outputs": [],
   "source": [
    "features2 = get_features(data2)"
   ]
  },
  {
   "cell_type": "code",
   "execution_count": 233,
   "id": "21bc771a",
   "metadata": {},
   "outputs": [],
   "source": [
    "df_train = pd.DataFrame(features2)"
   ]
  },
  {
   "cell_type": "code",
   "execution_count": 234,
   "id": "ab7d5916",
   "metadata": {},
   "outputs": [],
   "source": [
    "df_train['target'] = target_train"
   ]
  },
  {
   "cell_type": "code",
   "execution_count": 235,
   "id": "74224e6a",
   "metadata": {},
   "outputs": [
    {
     "data": {
      "text/html": [
       "<div>\n",
       "<style scoped>\n",
       "    .dataframe tbody tr th:only-of-type {\n",
       "        vertical-align: middle;\n",
       "    }\n",
       "\n",
       "    .dataframe tbody tr th {\n",
       "        vertical-align: top;\n",
       "    }\n",
       "\n",
       "    .dataframe thead th {\n",
       "        text-align: right;\n",
       "    }\n",
       "</style>\n",
       "<table border=\"1\" class=\"dataframe\">\n",
       "  <thead>\n",
       "    <tr style=\"text-align: right;\">\n",
       "      <th></th>\n",
       "      <th>isAbbreviation</th>\n",
       "      <th>isNumber</th>\n",
       "      <th>numberOfWords</th>\n",
       "      <th>isNextLetterCapital</th>\n",
       "      <th>isNextLetterNumber</th>\n",
       "      <th>target</th>\n",
       "    </tr>\n",
       "  </thead>\n",
       "  <tbody>\n",
       "    <tr>\n",
       "      <th>0</th>\n",
       "      <td>1</td>\n",
       "      <td>0</td>\n",
       "      <td>5</td>\n",
       "      <td>1</td>\n",
       "      <td>0</td>\n",
       "      <td>0</td>\n",
       "    </tr>\n",
       "    <tr>\n",
       "      <th>1</th>\n",
       "      <td>1</td>\n",
       "      <td>0</td>\n",
       "      <td>10</td>\n",
       "      <td>1</td>\n",
       "      <td>0</td>\n",
       "      <td>0</td>\n",
       "    </tr>\n",
       "    <tr>\n",
       "      <th>2</th>\n",
       "      <td>1</td>\n",
       "      <td>0</td>\n",
       "      <td>1</td>\n",
       "      <td>1</td>\n",
       "      <td>0</td>\n",
       "      <td>0</td>\n",
       "    </tr>\n",
       "    <tr>\n",
       "      <th>3</th>\n",
       "      <td>1</td>\n",
       "      <td>0</td>\n",
       "      <td>4</td>\n",
       "      <td>1</td>\n",
       "      <td>0</td>\n",
       "      <td>0</td>\n",
       "    </tr>\n",
       "    <tr>\n",
       "      <th>4</th>\n",
       "      <td>1</td>\n",
       "      <td>0</td>\n",
       "      <td>1</td>\n",
       "      <td>1</td>\n",
       "      <td>0</td>\n",
       "      <td>0</td>\n",
       "    </tr>\n",
       "  </tbody>\n",
       "</table>\n",
       "</div>"
      ],
      "text/plain": [
       "   isAbbreviation  isNumber  numberOfWords  isNextLetterCapital  \\\n",
       "0               1         0              5                    1   \n",
       "1               1         0             10                    1   \n",
       "2               1         0              1                    1   \n",
       "3               1         0              4                    1   \n",
       "4               1         0              1                    1   \n",
       "\n",
       "   isNextLetterNumber  target  \n",
       "0                   0       0  \n",
       "1                   0       0  \n",
       "2                   0       0  \n",
       "3                   0       0  \n",
       "4                   0       0  "
      ]
     },
     "execution_count": 235,
     "metadata": {},
     "output_type": "execute_result"
    }
   ],
   "source": [
    "df_train.head()"
   ]
  },
  {
   "cell_type": "code",
   "execution_count": 236,
   "id": "a9cef1a4",
   "metadata": {},
   "outputs": [],
   "source": [
    "parametres = { 'criterion': ['gini', 'entropy'],\n",
    "              'max_depth': range (1,13, 2),\n",
    "              'min_samples_leaf': range (1,8),\n",
    "              'min_samples_split': range (2,10,2) }"
   ]
  },
  {
   "cell_type": "code",
   "execution_count": 242,
   "id": "62a7243a",
   "metadata": {},
   "outputs": [
    {
     "data": {
      "text/plain": [
       "GridSearchCV(cv=5, estimator=DecisionTreeClassifier(), n_jobs=-1,\n",
       "             param_grid={'criterion': ['gini', 'entropy'],\n",
       "                         'max_depth': range(1, 13, 2),\n",
       "                         'min_samples_leaf': range(1, 8),\n",
       "                         'min_samples_split': range(2, 10, 2)})"
      ]
     },
     "execution_count": 242,
     "metadata": {},
     "output_type": "execute_result"
    }
   ],
   "source": [
    "from sklearn.tree import DecisionTreeClassifier\n",
    "from sklearn.model_selection import GridSearchCV\n",
    "\n",
    "X_train = df_train.drop('target', axis=1)\n",
    "y_train = target_train\n",
    "grid = GridSearchCV(DecisionTreeClassifier(), parametres, cv=5, n_jobs=-1)\n",
    "grid.fit(X_train, y_train)"
   ]
  },
  {
   "cell_type": "code",
   "execution_count": 243,
   "id": "a3455baa",
   "metadata": {},
   "outputs": [
    {
     "data": {
      "text/plain": [
       "{'criterion': 'gini',\n",
       " 'max_depth': 1,\n",
       " 'min_samples_leaf': 1,\n",
       " 'min_samples_split': 2}"
      ]
     },
     "execution_count": 243,
     "metadata": {},
     "output_type": "execute_result"
    }
   ],
   "source": [
    "grid.best_params_"
   ]
  },
  {
   "cell_type": "code",
   "execution_count": 244,
   "id": "ddd2134b",
   "metadata": {},
   "outputs": [
    {
     "data": {
      "text/plain": [
       "0.8333333333333333"
      ]
     },
     "execution_count": 244,
     "metadata": {},
     "output_type": "execute_result"
    }
   ],
   "source": [
    "X_test = df_test.drop('target', axis=1)\n",
    "y_test = target_test\n",
    "\n",
    "\n",
    "from sklearn.metrics import f1_score\n",
    "f1_score(y_test, grid.predict(X_test))"
   ]
  },
  {
   "cell_type": "code",
   "execution_count": 245,
   "id": "d94d19eb",
   "metadata": {},
   "outputs": [
    {
     "data": {
      "text/plain": [
       "KNeighborsClassifier()"
      ]
     },
     "execution_count": 245,
     "metadata": {},
     "output_type": "execute_result"
    }
   ],
   "source": [
    "from sklearn.neighbors import KNeighborsClassifier\n",
    "nn = KNeighborsClassifier(n_neighbors=5)\n",
    "nn.fit(X_train, y_train)"
   ]
  },
  {
   "cell_type": "code",
   "execution_count": 246,
   "id": "012a39b8",
   "metadata": {},
   "outputs": [
    {
     "data": {
      "text/plain": [
       "0.29629629629629634"
      ]
     },
     "execution_count": 246,
     "metadata": {},
     "output_type": "execute_result"
    }
   ],
   "source": [
    "f1_score(y_test, nn.predict(X_test))"
   ]
  },
  {
   "cell_type": "code",
   "execution_count": 248,
   "id": "361863b0",
   "metadata": {},
   "outputs": [
    {
     "data": {
      "text/plain": [
       "GridSearchCV(cv=5, estimator=RandomForestClassifier(), n_jobs=-1,\n",
       "             param_grid={'max_depth': range(1, 13, 2),\n",
       "                         'min_samples_leaf': range(1, 8),\n",
       "                         'min_samples_split': range(2, 10, 2),\n",
       "                         'n_estimators': range(20, 100, 10)})"
      ]
     },
     "execution_count": 248,
     "metadata": {},
     "output_type": "execute_result"
    }
   ],
   "source": [
    "parametres_forest = { 'n_estimators': range (20,100, 10),\n",
    "                      'max_depth': range (1,13, 2),\n",
    "                      'min_samples_leaf': range (1,8),\n",
    "                      'min_samples_split': range (2,10,2) }\n",
    "\n",
    "X_train = df_train.drop('target', axis=1)\n",
    "y_train = target_train\n",
    "grid_forest = GridSearchCV(RandomForestClassifier(), parametres_forest, cv=5, n_jobs=-1)\n",
    "grid_forest.fit(X_train, y_train)"
   ]
  },
  {
   "cell_type": "code",
   "execution_count": 249,
   "id": "6e4b3ad3",
   "metadata": {},
   "outputs": [
    {
     "data": {
      "text/plain": [
       "{'max_depth': 1,\n",
       " 'min_samples_leaf': 1,\n",
       " 'min_samples_split': 2,\n",
       " 'n_estimators': 30}"
      ]
     },
     "execution_count": 249,
     "metadata": {},
     "output_type": "execute_result"
    }
   ],
   "source": [
    "grid_forest.best_params_"
   ]
  },
  {
   "cell_type": "code",
   "execution_count": 250,
   "id": "56c5357b",
   "metadata": {},
   "outputs": [
    {
     "data": {
      "text/plain": [
       "0.8333333333333333"
      ]
     },
     "execution_count": 250,
     "metadata": {},
     "output_type": "execute_result"
    }
   ],
   "source": [
    "f1_score(y_test, grid_forest.predict(X_test))"
   ]
  }
 ],
 "metadata": {
  "kernelspec": {
   "display_name": "Python 3",
   "language": "python",
   "name": "python3"
  },
  "language_info": {
   "codemirror_mode": {
    "name": "ipython",
    "version": 3
   },
   "file_extension": ".py",
   "mimetype": "text/x-python",
   "name": "python",
   "nbconvert_exporter": "python",
   "pygments_lexer": "ipython3",
   "version": "3.8.8"
  }
 },
 "nbformat": 4,
 "nbformat_minor": 5
}
